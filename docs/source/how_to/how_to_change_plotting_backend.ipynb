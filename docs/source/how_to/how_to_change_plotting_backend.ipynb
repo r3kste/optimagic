{
 "cells": [
  {
   "cell_type": "markdown",
   "id": "0",
   "metadata": {},
   "source": [
    "# How to change the plotting backend"
   ]
  },
  {
   "cell_type": "markdown",
   "id": "1",
   "metadata": {},
   "source": [
    "optimagic supports various visualization libraries as plotting backends, which can be\n",
    "selected using the `backend` argument."
   ]
  },
  {
   "cell_type": "markdown",
   "id": "2",
   "metadata": {},
   "source": [
    "::::{tab-set}\n",
    "\n",
    ":::{tab-item} Plotly\n",
    "\n",
    "The default plotting library. To select the Plotly backend explicitly, set `backend=\"plotly\"`.\n",
    "\n",
    "The returned figure object is a [`plotly.graph_objects.Figure`](https://plotly.com/python-api-reference/generated/plotly.graph_objects.Figure.html).\n",
    "\n",
    ":::\n",
    "\n",
    ":::{tab-item} Matplotlib\n",
    "\n",
    "To select the Matplotlib backend, set `backend=\"matplotlib\"`.\n",
    "\n",
    "The returned figure object is a [`matplotlib.axes.Axes`](https://matplotlib.org/stable/api/_as_gen/matplotlib.axes.Axes.html).\n",
    "\n",
    "```{note}\n",
    "In case of grid plots (such as `convergence_plot` or `slice_plot`), the returned object is a 2-dimensional numpy array of `Axes` objects: [`numpy.ndarray`](https://numpy.org/doc/stable/reference/generated/numpy.ndarray.html)[[`matplotlib.axes.Axes`]](https://matplotlib.org/stable/api/_as_gen/matplotlib.axes.Axes.html) of shape `(n_rows, n_cols)`.\n",
    "```\n",
    "\n",
    ":::\n",
    "\n",
    "::::"
   ]
  },
  {
   "cell_type": "markdown",
   "id": "3",
   "metadata": {},
   "source": [
    "In the following guide, we showcase the criterion plot visualized using different\n",
    "backends."
   ]
  },
  {
   "cell_type": "code",
   "execution_count": null,
   "id": "4",
   "metadata": {},
   "outputs": [],
   "source": [
    "import numpy as np\n",
    "\n",
    "import optimagic as om\n",
    "\n",
    "\n",
    "def sphere(x):\n",
    "    return x @ x\n",
    "\n",
    "\n",
    "results = {}\n",
    "for algo in [\"scipy_lbfgsb\", \"scipy_neldermead\"]:\n",
    "    results[algo] = om.minimize(sphere, params=np.arange(5), algorithm=algo)"
   ]
  },
  {
   "cell_type": "markdown",
   "id": "5",
   "metadata": {},
   "source": [
    "## Plotly"
   ]
  },
  {
   "cell_type": "markdown",
   "id": "6",
   "metadata": {},
   "source": [
    ":::{note}\n",
    "\n",
    "**Choose the Plotly renderer according to your environment:**\n",
    "\n",
    "- Use `plotly.io.renderers.default = \"notebook_connected\"` in Jupyter notebooks for interactive plots.\n",
    "- Use `plotly.io.renderers.default = \"browser\"` to open plots in your default web browser when running as a script.\n",
    "\n",
    "Refer to the [Plotly documentation](https://plotly.com/python/renderers/) for more details.\n",
    "\n",
    ":::"
   ]
  },
  {
   "cell_type": "code",
   "execution_count": null,
   "id": "7",
   "metadata": {},
   "outputs": [],
   "source": [
    "import plotly.io as pio\n",
    "\n",
    "pio.renderers.default = \"notebook_connected\"\n",
    "\n",
    "fig = om.criterion_plot(results, backend=\"plotly\")  # Also the default\n",
    "fig.show()"
   ]
  },
  {
   "cell_type": "markdown",
   "id": "8",
   "metadata": {},
   "source": [
    "## Matplotlib"
   ]
  },
  {
   "cell_type": "code",
   "execution_count": null,
   "id": "9",
   "metadata": {},
   "outputs": [],
   "source": [
    "ax = om.criterion_plot(results, backend=\"matplotlib\")"
   ]
  }
 ],
 "metadata": {
  "kernelspec": {
   "display_name": "Python 3",
   "language": "python",
   "name": "python3"
  },
  "language_info": {
   "codemirror_mode": {
    "name": "ipython",
    "version": 3
   },
   "file_extension": ".py",
   "mimetype": "text/x-python",
   "name": "python",
   "nbconvert_exporter": "python",
   "pygments_lexer": "ipython3",
   "version": "3.10.18"
  }
 },
 "nbformat": 4,
 "nbformat_minor": 5
}
